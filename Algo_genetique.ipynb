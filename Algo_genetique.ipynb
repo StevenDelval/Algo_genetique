{
 "cells": [
  {
   "cell_type": "code",
   "execution_count": 1109,
   "metadata": {},
   "outputs": [],
   "source": [
    "from pprint import pprint\n",
    "from math import sqrt,dist\n",
    "import random as rd"
   ]
  },
  {
   "cell_type": "code",
   "execution_count": 1110,
   "metadata": {},
   "outputs": [],
   "source": [
    "class Genetique :\n",
    "\n",
    "    def __init__(self,nb_chemins,liste_points):\n",
    "        self.chemins=[]\n",
    "        self.nb_chemins = nb_chemins\n",
    "        self.liste_points = liste_points\n",
    "        self.nb_points = len(self.liste_points)\n",
    "        self.meilleur_chemin = None\n",
    "        self.nb_generation = 0\n",
    "    # def peupler(self):\n",
    "    #     for _ in range(self.nb_chemins):\n",
    "    #         liste_index = [i for i in range(1,self.nb_points)]\n",
    "    #         chemin = [0]\n",
    "    #         for _ in range(self.nb_points -1):\n",
    "    #             choix = rd.choice(liste_index)\n",
    "    #             chemin.append(choix)\n",
    "    #             liste_index.remove(choix)\n",
    "    #         self.chemins.append(chemin)\n",
    "\n",
    "    def peupler(self):\n",
    "        for _ in range(self.nb_chemins):\n",
    "            chemin= [i for i in range(1,self.nb_points)]\n",
    "            rd.shuffle(chemin)\n",
    "            chemin.insert(0,0)\n",
    "            self.chemins.append({\"chemin\":chemin,\"distance\":None})\n",
    "    \n",
    "    def evaluer(self):\n",
    "        def calculer_distance_chemin(chemin,liste_points):\n",
    "            distance_total = 0\n",
    "            for index in range(len(chemin)-1):\n",
    "                distance_total += dist(liste_points[chemin[index]],liste_points[chemin[index+1]])\n",
    "            return distance_total\n",
    "        \n",
    "        for chemin in self.chemins:\n",
    "            chemin[\"distance\"] = calculer_distance_chemin(chemin[\"chemin\"],self.liste_points)\n",
    "            \n",
    "        \n",
    "        \n",
    "        \n",
    "    \n",
    "    def selectionner(self):\n",
    "        nb_selection = int(self.nb_chemins / 3)\n",
    "        self.chemins = self.chemins[0:nb_selection]\n",
    "        \n",
    "    def croiser_et_muter(self):\n",
    "        \n",
    "        def cree_enfant(self,chemin_a,chemin_b):\n",
    "            chemin_enfants=[]\n",
    "            \n",
    "            for index in range(self.nb_points) :\n",
    "\n",
    "                if not(chemin_a[index] in chemin_enfants) :\n",
    "                    chemin_enfants.append(chemin_a[index])\n",
    "                \n",
    "                if not(chemin_b[self.nb_points - index -1] in chemin_enfants) :\n",
    "                    \n",
    "                    chemin_enfants.append(chemin_b[self.nb_points - index -1])\n",
    "        \n",
    "                \n",
    "            return chemin_enfants\n",
    "\n",
    "        def mutation(chemin):\n",
    "            \n",
    "            if rd.randint(0,10) > 5 :\n",
    "                nb_un = rd.randint(1,len(chemin)-1)\n",
    "                nb_deux = rd.randint(1,len(chemin)-1)\n",
    "                chemin[nb_un],chemin[nb_deux] = chemin[nb_deux],chemin[nb_un]\n",
    "                \n",
    "\n",
    "            return {\"chemin\":chemin,\"distance\":None}\n",
    "\n",
    "        deux_meilleur_chemin = [self.chemins[1],self.chemins[0]]\n",
    "        chemins = self.chemins.copy()\n",
    "        chemins_final = chemins.copy()\n",
    "        \n",
    "        for bon_chemin in deux_meilleur_chemin:\n",
    "            \n",
    "            chemins.remove(bon_chemin)\n",
    "            for chemin in chemins:\n",
    "                chemins_final.append({\"chemin\":cree_enfant(self,bon_chemin[\"chemin\"],chemin[\"chemin\"]),\"distance\":None})\n",
    "            chemins.insert(0,bon_chemin)\n",
    "\n",
    "        chemins_final.append({\"chemin\":cree_enfant(self,chemins[len(self.chemins)-1][\"chemin\"],chemins[len(chemins)-2][\"chemin\"]),\"distance\":None})\n",
    "        chemins_final.append({\"chemin\":cree_enfant(self,chemins[len(self.chemins)-1][\"chemin\"],chemins[len(chemins)-3][\"chemin\"]),\"distance\":None})\n",
    "    \n",
    "        for index, value in enumerate(chemins_final[2:]):\n",
    "            chemins_final[index] = mutation(value[\"chemin\"])\n",
    "            \n",
    "        self.nb_generation += 1\n",
    "        self.chemins=chemins_final\n",
    "\n",
    "    def meilleur_resultat(self):\n",
    "        self.chemins.sort(key=lambda x:x[\"distance\"])\n",
    "        \n",
    "        if self.meilleur_chemin is None:\n",
    "            self.meilleur_chemin = self.chemins[0].copy()\n",
    "            \n",
    "            self.meilleur_chemin[\"apparue\"] = self.nb_generation\n",
    "        elif self.chemins[0][\"distance\"] < self.meilleur_chemin[\"distance\"]:\n",
    "            self.meilleur_chemin = self.chemins[0].copy()\n",
    "            self.meilleur_chemin[\"apparue\"] = self.nb_generation\n"
   ]
  },
  {
   "cell_type": "code",
   "execution_count": 1111,
   "metadata": {},
   "outputs": [
    {
     "name": "stdout",
     "output_type": "stream",
     "text": [
      "[(-893, -452),\n",
      " (-822, 574),\n",
      " (-166, -455),\n",
      " (-780, 717),\n",
      " (845, 791),\n",
      " (-922, -224),\n",
      " (98, 151),\n",
      " (-320, -303),\n",
      " (745, -894),\n",
      " (-674, -724),\n",
      " (-310, 148),\n",
      " (-317, 437),\n",
      " (-498, -665),\n",
      " (-997, 855),\n",
      " (-107, 584),\n",
      " (-821, 799),\n",
      " (223, -227),\n",
      " (-857, -987),\n",
      " (-354, 499),\n",
      " (-82, -792)]\n"
     ]
    }
   ],
   "source": [
    "rd.seed(123)\n",
    "\n",
    "nombre_de_points = 20\n",
    "nombre_de_generation = 10000\n",
    "nb_chemin = 21\n",
    "\n",
    "liste_meilleur_9_points = [0, 5, 1, 3, 4, 6, 7, 2, 8]\n",
    "liste_meilleur_11_points = [0, 5, 9, 7, 2, 8, 4, 6, 10, 1, 3]\n",
    "\n",
    "liste_points=[(rd.randint(-1000,1000),rd.randint(-1000,1000)) for _ in range(nombre_de_points)]\n",
    "\n",
    "pprint(liste_points)"
   ]
  },
  {
   "cell_type": "code",
   "execution_count": 1112,
   "metadata": {},
   "outputs": [],
   "source": [
    "gen = Genetique(nb_chemin,liste_points)\n",
    "gen.peupler()\n",
    "gen.evaluer()\n",
    "gen.meilleur_resultat()"
   ]
  },
  {
   "cell_type": "code",
   "execution_count": 1113,
   "metadata": {},
   "outputs": [
    {
     "name": "stdout",
     "output_type": "stream",
     "text": [
      "le meilleur chemin [0, 7, 2, 9, 17, 12, 8, 5, 1, 13, 15, 3, 11, 18, 10, 19, 16, 6, 14, 4] \n",
      " distance = 11085.894739254307 \n",
      " Apparue à la génération n°6894 \n"
     ]
    }
   ],
   "source": [
    "for _ in range(nombre_de_generation):\n",
    "    gen.selectionner()\n",
    "    gen.croiser_et_muter()\n",
    "    gen.evaluer()\n",
    "    gen.meilleur_resultat()\n",
    "\n",
    "\n",
    "print(\"le meilleur chemin {0} \\n distance = {1} \\n Apparue à la génération n°{2} \".format(gen.meilleur_chemin[\"chemin\"],gen.meilleur_chemin[\"distance\"],gen.meilleur_chemin[\"apparue\"]))\n"
   ]
  }
 ],
 "metadata": {
  "kernelspec": {
   "display_name": "Python 3.10.4 ('sdp')",
   "language": "python",
   "name": "python3"
  },
  "language_info": {
   "codemirror_mode": {
    "name": "ipython",
    "version": 3
   },
   "file_extension": ".py",
   "mimetype": "text/x-python",
   "name": "python",
   "nbconvert_exporter": "python",
   "pygments_lexer": "ipython3",
   "version": "3.10.4"
  },
  "orig_nbformat": 4,
  "vscode": {
   "interpreter": {
    "hash": "469afe5406be1ea4e852a1c357dde6a9cd024d419e8b8f25c7fc9ec9e36b640c"
   }
  }
 },
 "nbformat": 4,
 "nbformat_minor": 2
}
