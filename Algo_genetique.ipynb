{
 "cells": [
  {
   "cell_type": "code",
   "execution_count": 641,
   "metadata": {},
   "outputs": [],
   "source": [
    "from pprint import pprint\n",
    "from math import sqrt,dist\n",
    "import random as rd"
   ]
  },
  {
   "cell_type": "code",
   "execution_count": 642,
   "metadata": {},
   "outputs": [],
   "source": [
    "class Genetique :\n",
    "\n",
    "    def __init__(self,nb_chemins,liste_points):\n",
    "        self.chemins=[]\n",
    "        self.nb_chemins = nb_chemins\n",
    "        self.liste_points = liste_points\n",
    "        self.nb_points = len(self.liste_points)\n",
    "    \n",
    "    # def peupler(self):\n",
    "    #     for _ in range(self.nb_chemins):\n",
    "    #         liste_index = [i for i in range(1,self.nb_points)]\n",
    "    #         chemin = [0]\n",
    "    #         for _ in range(self.nb_points -1):\n",
    "    #             choix = rd.choice(liste_index)\n",
    "    #             chemin.append(choix)\n",
    "    #             liste_index.remove(choix)\n",
    "    #         self.chemins.append(chemin)\n",
    "\n",
    "    def peupler(self):\n",
    "        for _ in range(self.nb_chemins):\n",
    "            chemin= [i for i in range(1,self.nb_points)]\n",
    "            rd.shuffle(chemin)\n",
    "            chemin.insert(0,0)\n",
    "            self.chemins.append({\"chemin\":chemin,\"distance\":None})\n",
    "    \n",
    "    def evaluer(self):\n",
    "        def calculer_distance_chemin(chemin,liste_points):\n",
    "            distance_total = 0\n",
    "            for index in range(len(chemin)-1):\n",
    "                distance_total += dist(liste_points[chemin[index]],liste_points[chemin[index+1]])\n",
    "            return distance_total\n",
    "        \n",
    "        for chemin in self.chemins:\n",
    "            chemin[\"distance\"] = calculer_distance_chemin(chemin[\"chemin\"],self.liste_points)\n",
    "            \n",
    "        \n",
    "        \n",
    "        \n",
    "    \n",
    "    def selectionner(self):\n",
    "        self.chemins.sort(key=lambda x:x[\"distance\"])\n",
    "        nb_selection = int(self.nb_chemins / 3)\n",
    "        self.chemins = self.chemins[0:nb_selection]\n",
    "        \n",
    "    def croiser_et_muter(self):\n",
    "        \n",
    "        def cree_enfant(self,chemin_a,chemin_b):\n",
    "            chemin_enfants=[]\n",
    "            for index in range(self.nb_points) :\n",
    "                if not(chemin_a[index] in chemin_enfants) :\n",
    "                    chemin_enfants.append(chemin_a[index])\n",
    "                if not(chemin_b[index] in chemin_enfants) :\n",
    "                    chemin_enfants.append(chemin_b[index])\n",
    "            return chemin_enfants\n",
    "\n",
    "        def mutation(chemin):\n",
    "            \n",
    "            if rd.randint(3,7) in [5,6,7]:\n",
    "                nb_un = rd.randint(1,len(chemin)-1)\n",
    "                nb_deux = rd.randint(1,len(chemin)-1)\n",
    "                chemin[nb_un],chemin[nb_deux] = chemin[nb_deux],chemin[nb_un]\n",
    "                \n",
    "\n",
    "            return {\"chemin\":chemin,\"distance\":None}\n",
    "\n",
    "        deux_meilleur_chemin = [self.chemins[0],self.chemins[1]]\n",
    "        chemins = [elt for elt in self.chemins]\n",
    "        self.chemins.append(mutation(cree_enfant(self,self.chemins[len(self.chemins)-1][\"chemin\"],self.chemins[len(self.chemins)-2][\"chemin\"])))\n",
    "        self.chemins.append(mutation(cree_enfant(self,self.chemins[len(self.chemins)-1][\"chemin\"],self.chemins[len(self.chemins)-3][\"chemin\"])))\n",
    "        for bon_chemin in deux_meilleur_chemin:\n",
    "            chemins.remove(bon_chemin)\n",
    "            for chemin in chemins:\n",
    "                self.chemins.append(mutation(cree_enfant(self,bon_chemin[\"chemin\"],chemin[\"chemin\"])))\n",
    "            chemins.append(bon_chemin)\n",
    "        \n",
    "\n",
    "    def meilleur_resultat(self):\n",
    "        pass"
   ]
  },
  {
   "cell_type": "code",
   "execution_count": 643,
   "metadata": {},
   "outputs": [
    {
     "name": "stdout",
     "output_type": "stream",
     "text": [
      "[(-893, -452),\n",
      " (-822, 574),\n",
      " (-166, -455),\n",
      " (-780, 717),\n",
      " (845, 791),\n",
      " (-922, -224),\n",
      " (98, 151),\n",
      " (-320, -303),\n",
      " (745, -894)]\n"
     ]
    }
   ],
   "source": [
    "rd.seed(123)\n",
    "nombre_de_noeud = 9\n",
    "liste_meilleur_9_points = [0, 5, 1, 3, 4, 6, 7, 2, 8]\n",
    "liste_meilleur_11_points = [0, 5, 9, 7, 2, 8, 4, 6, 10, 1, 3]\n",
    "liste_points=[(rd.randint(-1000,1000),rd.randint(-1000,1000)) for _ in range(nombre_de_noeud)]\n",
    "\n",
    "pprint(liste_points)"
   ]
  },
  {
   "cell_type": "code",
   "execution_count": 644,
   "metadata": {},
   "outputs": [],
   "source": [
    "gen = Genetique(21,liste_points)\n",
    "gen.peupler()\n",
    "gen.evaluer()\n"
   ]
  },
  {
   "cell_type": "code",
   "execution_count": 669,
   "metadata": {},
   "outputs": [
    {
     "data": {
      "text/plain": [
       "[{'chemin': [0, 5, 7, 2, 8, 4, 6, 1, 3], 'distance': 5897.896760216911},\n",
       " {'chemin': [0, 5, 7, 2, 8, 4, 6, 1, 3], 'distance': 5897.896760216911},\n",
       " {'chemin': [0, 5, 7, 2, 8, 4, 6, 1, 3], 'distance': 5897.896760216911},\n",
       " {'chemin': [0, 5, 7, 2, 8, 4, 6, 1, 3], 'distance': 5897.896760216911},\n",
       " {'chemin': [0, 5, 7, 2, 8, 4, 6, 1, 3], 'distance': 5897.896760216911},\n",
       " {'chemin': [0, 5, 7, 2, 8, 4, 6, 1, 3], 'distance': 5897.896760216911},\n",
       " {'chemin': [0, 5, 7, 2, 8, 4, 6, 1, 3], 'distance': 5897.896760216911},\n",
       " {'chemin': [0, 5, 7, 2, 8, 4, 6, 1, 3], 'distance': 5897.896760216911},\n",
       " {'chemin': [0, 5, 7, 2, 8, 4, 6, 1, 3], 'distance': 5897.896760216911},\n",
       " {'chemin': [0, 5, 7, 2, 8, 4, 6, 1, 3], 'distance': 5897.896760216911},\n",
       " {'chemin': [0, 5, 7, 2, 8, 4, 6, 1, 3], 'distance': 5897.896760216911},\n",
       " {'chemin': [0, 5, 7, 2, 8, 4, 6, 1, 3], 'distance': 5897.896760216911},\n",
       " {'chemin': [0, 5, 7, 2, 8, 4, 6, 1, 3], 'distance': 5897.896760216911},\n",
       " {'chemin': [0, 5, 7, 2, 8, 4, 6, 1, 3], 'distance': 5897.896760216911},\n",
       " {'chemin': [0, 5, 7, 2, 8, 4, 6, 1, 3], 'distance': 5897.896760216911},\n",
       " {'chemin': [0, 5, 2, 7, 8, 4, 6, 1, 3], 'distance': 6287.974579331425},\n",
       " {'chemin': [0, 5, 7, 8, 2, 4, 6, 1, 3], 'distance': 6816.112866593179},\n",
       " {'chemin': [0, 5, 6, 2, 8, 4, 7, 1, 3], 'distance': 7434.511848833277},\n",
       " {'chemin': [0, 6, 7, 2, 8, 4, 5, 1, 3], 'distance': 7683.816169596807},\n",
       " {'chemin': [0, 5, 7, 2, 1, 4, 6, 8, 3], 'distance': 8385.830805746846},\n",
       " {'chemin': [0, 5, 7, 3, 8, 4, 6, 1, 2], 'distance': 9078.78656317354}]"
      ]
     },
     "execution_count": 669,
     "metadata": {},
     "output_type": "execute_result"
    }
   ],
   "source": [
    "for _ in range(60):\n",
    "    gen.selectionner()\n",
    "    gen.croiser_et_muter()\n",
    "    gen.evaluer()\n",
    "\n",
    "gen.chemins.sort(key=lambda x:x[\"distance\"])\n",
    "gen.chemins"
   ]
  }
 ],
 "metadata": {
  "kernelspec": {
   "display_name": "Python 3.10.4 ('sdp')",
   "language": "python",
   "name": "python3"
  },
  "language_info": {
   "codemirror_mode": {
    "name": "ipython",
    "version": 3
   },
   "file_extension": ".py",
   "mimetype": "text/x-python",
   "name": "python",
   "nbconvert_exporter": "python",
   "pygments_lexer": "ipython3",
   "version": "3.10.4"
  },
  "orig_nbformat": 4,
  "vscode": {
   "interpreter": {
    "hash": "469afe5406be1ea4e852a1c357dde6a9cd024d419e8b8f25c7fc9ec9e36b640c"
   }
  }
 },
 "nbformat": 4,
 "nbformat_minor": 2
}
