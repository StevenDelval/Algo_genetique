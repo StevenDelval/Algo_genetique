{
 "cells": [
  {
   "cell_type": "code",
   "execution_count": 134,
   "metadata": {},
   "outputs": [],
   "source": [
    "from pprint import pprint\n",
    "from math import sqrt,dist,exp\n",
    "import random as rd\n",
    "from time import process_time_ns"
   ]
  },
  {
   "cell_type": "code",
   "execution_count": 135,
   "metadata": {},
   "outputs": [],
   "source": [
    "def ecrire_csv(nb_chemin,nombre_de_generation,meilleur,temps_mis_execution):\n",
    "    try :\n",
    "        with open(\"new_algo_resultat_pour{0}points.csv\".format(nombre_de_points),'r') as resultat :\n",
    "            line = resultat.readline()\n",
    "    except:\n",
    "        line = None\n",
    "\n",
    "    with open(\"new_algo_resultat_pour{0}points.csv\".format(nombre_de_points),'a+') as resultat :\n",
    "        if line != \"nb_chemin,nombre_de_generation,distance,temps_mis_execution\\n\":\n",
    "                resultat.write(\"nb_chemin,nombre_de_generation,distance,temps_mis_execution\\n\")\n",
    "        resultat.write(\"{0},{1},{2},{3}\\n\".format(nb_chemin,nombre_de_generation,meilleur,temps_mis_execution))"
   ]
  },
  {
   "cell_type": "code",
   "execution_count": 136,
   "metadata": {},
   "outputs": [],
   "source": [
    "class Genetique :\n",
    "\n",
    "    def __init__(self,nb_chemins,liste_points):\n",
    "        self.chemins=[]\n",
    "        self.nb_chemins = nb_chemins\n",
    "        self.liste_points = liste_points\n",
    "        self.nb_points = len(self.liste_points)\n",
    "        self.meilleur_chemin = None\n",
    "        self.nb_generation = 0\n",
    "    # def peupler(self):\n",
    "    #     for _ in range(self.nb_chemins):\n",
    "    #         liste_index = [i for i in range(1,self.nb_points)]\n",
    "    #         chemin = [0]\n",
    "    #         for _ in range(self.nb_points -1):\n",
    "    #             choix = rd.choice(liste_index)\n",
    "    #             chemin.append(choix)\n",
    "    #             liste_index.remove(choix)\n",
    "    #         self.chemins.append(chemin)\n",
    "\n",
    "    def peupler(self):\n",
    "        chemin= [i for i in range(1,self.nb_points)]\n",
    "        for _ in range(self.nb_chemins):\n",
    "            list_tmp = chemin.copy()\n",
    "            rd.shuffle(list_tmp)\n",
    "            list_tmp.insert(0,0)\n",
    "            self.chemins.append({\"chemin\":list_tmp,\"distance\":None})\n",
    "    \n",
    "    def evaluer(self):\n",
    "        def calculer_distance_chemin(chemin,liste_points):\n",
    "            distance_total = 0\n",
    "            for index in range(len(chemin)-1):\n",
    "                distance_total += dist(liste_points[chemin[index]],liste_points[chemin[index+1]])\n",
    "            return distance_total\n",
    "        \n",
    "        for chemin in self.chemins:\n",
    "            chemin[\"distance\"] = calculer_distance_chemin(chemin[\"chemin\"],self.liste_points)\n",
    "            \n",
    "        \n",
    "        \n",
    "        \n",
    "    \n",
    "    def selectionner(self):\n",
    "        self.chemins.sort(key=lambda x:x[\"distance\"])\n",
    "        nb_selection = int(self.nb_chemins / 3)\n",
    "        self.chemins = self.chemins[0:nb_selection]\n",
    "        \n",
    "    def croiser_et_muter(self):\n",
    "        \n",
    "        def cree_enfant(self,chemin_a,chemin_b):\n",
    "            chemin_enfants=[]\n",
    "            \n",
    "            for index in range(self.nb_points) :\n",
    "\n",
    "                if chemin_a[index] not in chemin_enfants :\n",
    "                    chemin_enfants.append(chemin_a[index])\n",
    "                \n",
    "                if chemin_b[self.nb_points - index -1] not in chemin_enfants :\n",
    "                    \n",
    "                    chemin_enfants.append(chemin_b[self.nb_points - index -1])\n",
    "        \n",
    "                \n",
    "            return chemin_enfants\n",
    "\n",
    "        def mutation(chemin):\n",
    "            \n",
    "            if rd.randint(0,10) > 5 :\n",
    "                nb_un = rd.randint(1,len(chemin)-1)\n",
    "                nb_deux = rd.randint(1,len(chemin)-1)\n",
    "                chemin[nb_un],chemin[nb_deux] = chemin[nb_deux],chemin[nb_un]\n",
    "                \n",
    "\n",
    "            return {\"chemin\":chemin,\"distance\":None}\n",
    "\n",
    "        \n",
    "        i = 0\n",
    "        j = i+1\n",
    "        while len(self.chemins) < self.nb_chemins:\n",
    "            self.chemins.append({\"chemin\":cree_enfant(self,self.chemins[i][\"chemin\"],self.chemins[j][\"chemin\"]),\"distance\":None})\n",
    "            i += 1\n",
    "            j += 1\n",
    "\n",
    "        for index, value in enumerate(self.chemins[2:]):\n",
    "            self.chemins[index] = mutation(value[\"chemin\"])\n",
    "            \n",
    "        self.nb_generation += 1\n",
    "\n",
    "    def meilleur_resultat(self):\n",
    "        self.chemins.sort(key=lambda x:x[\"distance\"])\n",
    "        \n",
    "        if self.meilleur_chemin is None:\n",
    "            self.meilleur_chemin = self.chemins[0].copy()\n",
    "            \n",
    "            self.meilleur_chemin[\"apparue\"] = self.nb_generation\n",
    "        elif self.chemins[0][\"distance\"] < self.meilleur_chemin[\"distance\"]:\n",
    "            self.meilleur_chemin = self.chemins[0].copy()\n",
    "            self.meilleur_chemin[\"apparue\"] = self.nb_generation\n"
   ]
  },
  {
   "cell_type": "code",
   "execution_count": 137,
   "metadata": {},
   "outputs": [
    {
     "name": "stdout",
     "output_type": "stream",
     "text": [
      "[(-893, -452),\n",
      " (-822, 574),\n",
      " (-166, -455),\n",
      " (-780, 717),\n",
      " (845, 791),\n",
      " (-922, -224),\n",
      " (98, 151),\n",
      " (-320, -303),\n",
      " (745, -894),\n",
      " (-674, -724),\n",
      " (-310, 148),\n",
      " (-317, 437),\n",
      " (-498, -665),\n",
      " (-997, 855),\n",
      " (-107, 584),\n",
      " (-821, 799),\n",
      " (223, -227),\n",
      " (-857, -987),\n",
      " (-354, 499),\n",
      " (-82, -792)]\n"
     ]
    }
   ],
   "source": [
    "rd.seed(123)\n",
    "\n",
    "nombre_de_points = 20\n",
    "# nombre_de_generation = 10000\n",
    "# nb_chemin = 120\n",
    "\n",
    "liste_meilleur_9_points = [0, 5, 1, 3, 4, 6, 7, 2, 8]\n",
    "liste_meilleur_11_points = [0, 5, 9, 7, 2, 8, 4, 6, 10, 1, 3]\n",
    "\n",
    "liste_points=[(rd.randint(-1000,1000),rd.randint(-1000,1000)) for _ in range(nombre_de_points)]\n",
    "pprint(liste_points)\n",
    "rd.seed()"
   ]
  },
  {
   "cell_type": "code",
   "execution_count": 138,
   "metadata": {},
   "outputs": [],
   "source": [
    "for nb_chemin in [21,30,60,90,120,150,210,300]:\n",
    "    for nombre_de_generation in [60,120,500,1000]:\n",
    "        for _ in range(40):\n",
    "            mesure_avant=process_time_ns()\n",
    "            gen = Genetique(nb_chemin,liste_points)\n",
    "            gen.peupler()\n",
    "            gen.evaluer()\n",
    "            gen.meilleur_resultat()\n",
    "            for _ in range(nombre_de_generation):\n",
    "                gen.selectionner()\n",
    "                gen.croiser_et_muter()\n",
    "                gen.evaluer()\n",
    "                gen.meilleur_resultat()\n",
    "            mesure_apres=process_time_ns()\n",
    "            temps_mis_execution= mesure_apres - mesure_avant\n",
    "            ecrire_csv(nb_chemin,nombre_de_generation,gen.meilleur_chemin[\"distance\"],temps_mis_execution)"
   ]
  },
  {
   "cell_type": "code",
   "execution_count": 143,
   "metadata": {},
   "outputs": [
    {
     "name": "stdout",
     "output_type": "stream",
     "text": [
      "temps execution: 0.132995136 {'chemin': [0, 17, 9, 12, 5, 19, 8, 16, 2, 7, 6, 10, 11, 18, 14, 4, 3, 15, 1, 13], 'distance': 9911.819334268757, 'apparue': 70}\n"
     ]
    }
   ],
   "source": [
    "nb_chemin = 90\n",
    "nombre_de_generation = 100\n",
    "mesure_avant=process_time_ns()\n",
    "gen = Genetique(nb_chemin,liste_points)\n",
    "gen.peupler()\n",
    "gen.evaluer()\n",
    "gen.meilleur_resultat()\n",
    "for _ in range(nombre_de_generation):\n",
    "    gen.selectionner()\n",
    "    gen.croiser_et_muter()\n",
    "    gen.evaluer()\n",
    "    gen.meilleur_resultat()\n",
    "mesure_apres=process_time_ns()\n",
    "temps_mis_execution= mesure_apres - mesure_avant\n",
    "print(\"temps execution:\",temps_mis_execution/1e9,gen.meilleur_chemin)"
   ]
  },
  {
   "cell_type": "code",
   "execution_count": 140,
   "metadata": {},
   "outputs": [],
   "source": [
    "# for _ in range(nombre_de_generation):\n",
    "#     gen.selectionner()\n",
    "#     gen.croiser_et_muter()\n",
    "#     gen.evaluer()\n",
    "#     gen.meilleur_resultat()\n",
    "\n",
    "\n",
    "# print(\"le meilleur chemin {0} \\n distance = {1} \\n Apparue à la génération n°{2} \".format(gen.meilleur_chemin[\"chemin\"],gen.meilleur_chemin[\"distance\"],gen.meilleur_chemin[\"apparue\"]))\n"
   ]
  }
 ],
 "metadata": {
  "kernelspec": {
   "display_name": "Python 3.10.4 ('sdp')",
   "language": "python",
   "name": "python3"
  },
  "language_info": {
   "codemirror_mode": {
    "name": "ipython",
    "version": 3
   },
   "file_extension": ".py",
   "mimetype": "text/x-python",
   "name": "python",
   "nbconvert_exporter": "python",
   "pygments_lexer": "ipython3",
   "version": "3.10.4"
  },
  "orig_nbformat": 4,
  "vscode": {
   "interpreter": {
    "hash": "469afe5406be1ea4e852a1c357dde6a9cd024d419e8b8f25c7fc9ec9e36b640c"
   }
  }
 },
 "nbformat": 4,
 "nbformat_minor": 2
}
