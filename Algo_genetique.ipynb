{
 "cells": [
  {
   "cell_type": "code",
   "execution_count": 75,
   "metadata": {},
   "outputs": [],
   "source": [
    "from pprint import pprint\n",
    "from math import sqrt,dist\n",
    "import random as rd"
   ]
  },
  {
   "cell_type": "code",
   "execution_count": 76,
   "metadata": {},
   "outputs": [],
   "source": [
    "def calculer_distance_chemin(chemin,liste_points):\n",
    "    distance_total = 0\n",
    "    for index in range(len(chemin)-1):\n",
    "        distance_total += dist(liste_points[chemin[index]],liste_points[chemin[index+1]])\n",
    "    return distance_total"
   ]
  },
  {
   "cell_type": "code",
   "execution_count": 77,
   "metadata": {},
   "outputs": [],
   "source": [
    "class Genetique :\n",
    "\n",
    "    def __init__(self,nb_chemins,liste_points):\n",
    "        self.chemins=[]\n",
    "        self.nb_chemins = nb_chemins\n",
    "        self.liste_points = liste_points\n",
    "        self.nb_points = len(self.liste_points)\n",
    "    \n",
    "    def peupler(self):\n",
    "        for _ in range(self.nb_chemins):\n",
    "            liste_index = [i for i in range(1,self.nb_points)]\n",
    "            chemin = [0]\n",
    "            for _ in range(self.nb_points -1):\n",
    "                choix = rd.choice(liste_index)\n",
    "                chemin.append(choix)\n",
    "                liste_index.remove(choix)\n",
    "            chemin_et_distance ={\"chemin\":chemin ,\"distance\":calculer_distance_chemin(chemin,self.liste_points)}\n",
    "            self.chemins.append(chemin_et_distance)\n",
    "    \n",
    "    def evaluer(self):\n",
    "        pass\n",
    "            \n",
    "            \n",
    "    \n",
    "    def selectionner(self):\n",
    "        pass\n",
    "\n",
    "    def croiser_et_muter(self):\n",
    "        pass\n",
    "\n",
    "    def meilleur_resultat(self):\n",
    "        pass"
   ]
  },
  {
   "cell_type": "code",
   "execution_count": 78,
   "metadata": {},
   "outputs": [
    {
     "name": "stdout",
     "output_type": "stream",
     "text": [
      "[(-893, -452),\n",
      " (-822, 574),\n",
      " (-166, -455),\n",
      " (-780, 717),\n",
      " (845, 791),\n",
      " (-922, -224),\n",
      " (98, 151),\n",
      " (-320, -303),\n",
      " (745, -894)]\n"
     ]
    }
   ],
   "source": [
    "rd.seed(123)\n",
    "nombre_de_noeud = 9\n",
    "liste_meilleur_9_points = [0, 5, 1, 3, 4, 6, 7, 2, 8]\n",
    "liste_meilleur_11_points = [0, 5, 9, 7, 2, 8, 4, 6, 10, 1, 3]\n",
    "liste_points=[(rd.randint(-1000,1000),rd.randint(-1000,1000)) for _ in range(nombre_de_noeud)]\n",
    "\n",
    "pprint(liste_points)"
   ]
  },
  {
   "cell_type": "code",
   "execution_count": 79,
   "metadata": {},
   "outputs": [
    {
     "data": {
      "text/plain": [
       "[[0, 3, 2, 5, 8, 6, 7, 1, 4],\n",
       " [0, 1, 5, 2, 8, 7, 3, 4, 6],\n",
       " [0, 8, 1, 2, 3, 5, 4, 6, 7],\n",
       " [0, 7, 5, 4, 3, 8, 1, 6, 2],\n",
       " [0, 8, 2, 6, 7, 4, 1, 5, 3],\n",
       " [0, 8, 5, 7, 4, 3, 6, 1, 2],\n",
       " [0, 2, 5, 8, 4, 3, 6, 7, 1],\n",
       " [0, 2, 7, 5, 6, 4, 1, 3, 8],\n",
       " [0, 6, 1, 4, 3, 8, 7, 2, 5],\n",
       " [0, 8, 7, 6, 2, 5, 1, 3, 4],\n",
       " [0, 7, 8, 4, 1, 2, 3, 6, 5],\n",
       " [0, 1, 4, 5, 6, 8, 7, 3, 2],\n",
       " [0, 2, 6, 1, 8, 5, 7, 3, 4],\n",
       " [0, 7, 1, 6, 5, 2, 8, 4, 3],\n",
       " [0, 6, 3, 5, 1, 7, 4, 8, 2],\n",
       " [0, 3, 5, 1, 4, 7, 8, 2, 6],\n",
       " [0, 1, 8, 6, 5, 4, 2, 7, 3],\n",
       " [0, 6, 2, 7, 4, 1, 8, 3, 5],\n",
       " [0, 7, 1, 8, 3, 6, 5, 2, 4],\n",
       " [0, 8, 7, 6, 4, 3, 2, 1, 5],\n",
       " [0, 6, 8, 5, 7, 2, 3, 1, 4]]"
      ]
     },
     "execution_count": 79,
     "metadata": {},
     "output_type": "execute_result"
    }
   ],
   "source": [
    "gen = Genetique(21,liste_points)\n",
    "gen.peupler()\n",
    "gen.chemins"
   ]
  },
  {
   "cell_type": "code",
   "execution_count": 80,
   "metadata": {},
   "outputs": [
    {
     "name": "stdout",
     "output_type": "stream",
     "text": [
      "{'chemin': [0, 3, 2, 5, 8, 6, 7, 1, 4], 'distance': 9622.429457882921}\n",
      "{'chemin': [0, 1, 5, 2, 8, 7, 3, 4, 6], 'distance': 8581.732757906433}\n",
      "{'chemin': [0, 8, 1, 2, 3, 5, 4, 6, 7], 'distance': 10977.430121375635}\n",
      "{'chemin': [0, 7, 5, 4, 3, 8, 1, 6, 2], 'distance': 10902.79771933727}\n",
      "{'chemin': [0, 8, 2, 6, 7, 4, 1, 5, 3], 'distance': 9021.078079660028}\n",
      "{'chemin': [0, 8, 5, 7, 4, 3, 6, 1, 2], 'distance': 10602.708520213346}\n",
      "{'chemin': [0, 2, 5, 8, 4, 3, 6, 7, 1], 'distance': 9301.022059396953}\n",
      "{'chemin': [0, 2, 7, 5, 6, 4, 1, 3, 8], 'distance': 7669.393183380422}\n",
      "{'chemin': [0, 6, 1, 4, 3, 8, 7, 2, 5], 'distance': 9923.56940439228}\n",
      "{'chemin': [0, 8, 7, 6, 2, 5, 1, 3, 4], 'distance': 7563.1802884007375}\n",
      "{'chemin': [0, 7, 8, 4, 1, 2, 3, 6, 5], 'distance': 9853.86497935628}\n",
      "{'chemin': [0, 1, 4, 5, 6, 8, 7, 3, 2], 'distance': 10723.133843542832}\n",
      "{'chemin': [0, 2, 6, 1, 8, 5, 7, 3, 4], 'distance': 9697.1887223149}\n",
      "{'chemin': [0, 7, 1, 6, 5, 2, 8, 4, 3], 'distance': 8818.312747168988}\n",
      "{'chemin': [0, 6, 3, 5, 1, 7, 4, 8, 2], 'distance': 9268.434833045554}\n",
      "{'chemin': [0, 3, 5, 1, 4, 7, 8, 2, 6], 'distance': 9099.809980694155}\n",
      "{'chemin': [0, 1, 8, 6, 5, 4, 2, 7, 3], 'distance': 10469.13918787392}\n",
      "{'chemin': [0, 6, 2, 7, 4, 1, 8, 3, 5], 'distance': 10633.818813762548}\n",
      "{'chemin': [0, 7, 1, 8, 3, 6, 5, 2, 4], 'distance': 10494.543937269846}\n",
      "{'chemin': [0, 8, 7, 6, 4, 3, 2, 1, 5], 'distance': 9489.711878010874}\n",
      "{'chemin': [0, 6, 8, 5, 7, 2, 3, 1, 4], 'distance': 8162.462551024662}\n"
     ]
    },
    {
     "data": {
      "text/plain": [
       "[[0, 3, 2, 5, 8, 6, 7, 1, 4],\n",
       " [0, 1, 5, 2, 8, 7, 3, 4, 6],\n",
       " [0, 8, 1, 2, 3, 5, 4, 6, 7],\n",
       " [0, 7, 5, 4, 3, 8, 1, 6, 2],\n",
       " [0, 8, 2, 6, 7, 4, 1, 5, 3],\n",
       " [0, 8, 5, 7, 4, 3, 6, 1, 2],\n",
       " [0, 2, 5, 8, 4, 3, 6, 7, 1],\n",
       " [0, 2, 7, 5, 6, 4, 1, 3, 8],\n",
       " [0, 6, 1, 4, 3, 8, 7, 2, 5],\n",
       " [0, 8, 7, 6, 2, 5, 1, 3, 4],\n",
       " [0, 7, 8, 4, 1, 2, 3, 6, 5],\n",
       " [0, 1, 4, 5, 6, 8, 7, 3, 2],\n",
       " [0, 2, 6, 1, 8, 5, 7, 3, 4],\n",
       " [0, 7, 1, 6, 5, 2, 8, 4, 3],\n",
       " [0, 6, 3, 5, 1, 7, 4, 8, 2],\n",
       " [0, 3, 5, 1, 4, 7, 8, 2, 6],\n",
       " [0, 1, 8, 6, 5, 4, 2, 7, 3],\n",
       " [0, 6, 2, 7, 4, 1, 8, 3, 5],\n",
       " [0, 7, 1, 8, 3, 6, 5, 2, 4],\n",
       " [0, 8, 7, 6, 4, 3, 2, 1, 5],\n",
       " [0, 6, 8, 5, 7, 2, 3, 1, 4]]"
      ]
     },
     "execution_count": 80,
     "metadata": {},
     "output_type": "execute_result"
    }
   ],
   "source": [
    "gen.evaluer()\n",
    "gen.chemins"
   ]
  }
 ],
 "metadata": {
  "kernelspec": {
   "display_name": "Python 3.10.4 ('sdp')",
   "language": "python",
   "name": "python3"
  },
  "language_info": {
   "codemirror_mode": {
    "name": "ipython",
    "version": 3
   },
   "file_extension": ".py",
   "mimetype": "text/x-python",
   "name": "python",
   "nbconvert_exporter": "python",
   "pygments_lexer": "ipython3",
   "version": "3.10.4"
  },
  "orig_nbformat": 4,
  "vscode": {
   "interpreter": {
    "hash": "469afe5406be1ea4e852a1c357dde6a9cd024d419e8b8f25c7fc9ec9e36b640c"
   }
  }
 },
 "nbformat": 4,
 "nbformat_minor": 2
}
