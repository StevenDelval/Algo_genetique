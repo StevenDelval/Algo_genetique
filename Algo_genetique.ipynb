{
 "cells": [
  {
   "cell_type": "code",
   "execution_count": null,
   "metadata": {},
   "outputs": [],
   "source": [
    "from pprint import pprint\n",
    "from math import sqrt,dist\n",
    "import random as rd"
   ]
  },
  {
   "cell_type": "code",
   "execution_count": 1,
   "metadata": {},
   "outputs": [],
   "source": [
    "class Genetique :\n",
    "\n",
    "    def __init__(self,nb_chemins,liste_points):\n",
    "        self.chemins=[]\n",
    "        self.nb_chemins = nb_chemins\n",
    "        self.liste_points = liste_points\n",
    "        self.nb_points = len(self.liste_points)\n",
    "    \n",
    "    def peupler():\n",
    "        pass\n",
    "    \n",
    "    def evaluer():\n",
    "        pass\n",
    "    \n",
    "    def selectionner():\n",
    "        pass\n",
    "\n",
    "    def croiser_et_muter():\n",
    "        pass"
   ]
  },
  {
   "cell_type": "code",
   "execution_count": null,
   "metadata": {},
   "outputs": [],
   "source": [
    "def calculer_distance_chemin(chemin,liste_points):\n",
    "    distance_total = 0\n",
    "    for index in range(len(chemin)-1):\n",
    "        distance_total += dist(liste_points[chemin[index]],liste_points[chemin[index+1]])\n",
    "    return distance_total"
   ]
  },
  {
   "cell_type": "code",
   "execution_count": null,
   "metadata": {},
   "outputs": [],
   "source": [
    "rd.seed(123)\n",
    "nombre_de_noeud = 9\n",
    "liste_points=[(rd.randint(-1000,1000),rd.randint(-1000,1000)) for _ in range(nombre_de_noeud)]\n",
    "pprint(liste_points)"
   ]
  }
 ],
 "metadata": {
  "kernelspec": {
   "display_name": "Python 3.10.4 64-bit",
   "language": "python",
   "name": "python3"
  },
  "language_info": {
   "codemirror_mode": {
    "name": "ipython",
    "version": 3
   },
   "file_extension": ".py",
   "mimetype": "text/x-python",
   "name": "python",
   "nbconvert_exporter": "python",
   "pygments_lexer": "ipython3",
   "version": "3.10.4"
  },
  "orig_nbformat": 4,
  "vscode": {
   "interpreter": {
    "hash": "916dbcbb3f70747c44a77c7bcd40155683ae19c65e1c03b4aa3499c5328201f1"
   }
  }
 },
 "nbformat": 4,
 "nbformat_minor": 2
}
