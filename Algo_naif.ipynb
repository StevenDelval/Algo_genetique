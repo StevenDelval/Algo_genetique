{
 "cells": [
  {
   "cell_type": "code",
   "execution_count": 43,
   "metadata": {},
   "outputs": [],
   "source": [
    "from pprint import pprint\n",
    "from math import sqrt,dist\n",
    "import random as rd"
   ]
  },
  {
   "cell_type": "code",
   "execution_count": 44,
   "metadata": {},
   "outputs": [],
   "source": [
    "class Arbre :\n",
    "    def __init__(self,valeur,parent):\n",
    "        self.valeur = valeur\n",
    "        self.parent = parent\n",
    "        self.enfants = []\n",
    "\n",
    "    def ajouter_enfant(self,enfant):\n",
    "        self.enfants.append(enfant)\n",
    "    \n",
    "    def obtenir_profondeur(self):\n",
    "        if Arbre.est_feuille(self):\n",
    "            return 0\n",
    "\n",
    "        profondeur_enfants =[]\n",
    "        for enfant in self.enfants:\n",
    "            profondeur_enfants.append(enfant.obtenir_profondeur())\n",
    "        \n",
    "        return max(profondeur_enfants) + 1\n",
    "\n",
    "    def obtenir_points_dans_chemin(self):\n",
    "        if self.parent is None:\n",
    "            return [self.valeur]\n",
    "        else:\n",
    "            points_dans_chemin = []\n",
    "            for point in self.parent.obtenir_points_dans_chemin():\n",
    "                points_dans_chemin.append(point)\n",
    "            points_dans_chemin.append(self.valeur)\n",
    "            return points_dans_chemin\n",
    "\n",
    "    def est_feuille(self):\n",
    "        if len(self.enfants) == 0:              \n",
    "            return True\n",
    "        \n",
    "        return False"
   ]
  },
  {
   "cell_type": "code",
   "execution_count": 45,
   "metadata": {},
   "outputs": [],
   "source": [
    "def distance_2_points(pointA,pointB):\n",
    "    return sqrt((pointA[0]-pointB[0])**2 +(pointA[1]-pointB[1])**2)\n",
    "\n",
    "def calculer_distance_chemin(chemin,liste_points):\n",
    "    distance_total = 0\n",
    "    for index in range(len(chemin)-1):\n",
    "        distance_total += dist(liste_points[chemin[index]],liste_points[chemin[index+1]])\n",
    "    return distance_total\n",
    "\n",
    "def obtenir_points_suivants_non_visités(liste_points, indices_points_visités):\n",
    "    \"\"\"\n",
    "    Fonction qui renvoie la liste des points encore à visiter\n",
    "    :param listes_points: (list) La liste des points\n",
    "    :param indices_points-visités: (list) une liste qui contient l'indice des points déjà visités\n",
    "    :return: (list) une liste qui contient les indices des points encore à visiter\n",
    "    \"\"\"\n",
    "    if len(indices_points_visités) == len(liste_points):\n",
    "        return []\n",
    "    return [indice for indice in range(len(liste_points)) if indice not in indices_points_visités]\n",
    "\n",
    "def créer_arbre(liste_points):\n",
    "    arbre = Arbre(0, None)\n",
    "    file = [arbre]\n",
    "\n",
    "    while arbre.obtenir_profondeur() <= len(liste_points) - 1 and len(file) > 0:\n",
    "        noeud_en_cours = file.pop(0)\n",
    "        points_suivants = obtenir_points_suivants_non_visités(liste_points, noeud_en_cours.obtenir_points_dans_chemin())\n",
    "        for point in points_suivants:\n",
    "            enfant = Arbre(point, noeud_en_cours)\n",
    "            noeud_en_cours.ajouter_enfant(enfant)\n",
    "            file.append(enfant)\n",
    "    return arbre"
   ]
  },
  {
   "cell_type": "code",
   "execution_count": 46,
   "metadata": {},
   "outputs": [],
   "source": [
    "liste_chemins = []\n",
    "def creer_liste_chemins(arbre):\n",
    "    if arbre.est_feuille():\n",
    "        liste_chemins.append(arbre.obtenir_points_dans_chemin())\n",
    "    else:\n",
    "        for noeud in arbre.enfants:\n",
    "            creer_liste_chemins(noeud)\n"
   ]
  },
  {
   "cell_type": "code",
   "execution_count": 47,
   "metadata": {},
   "outputs": [
    {
     "name": "stdout",
     "output_type": "stream",
     "text": [
      "[(-893, -452),\n",
      " (-822, 574),\n",
      " (-166, -455),\n",
      " (-780, 717),\n",
      " (845, 791),\n",
      " (-922, -224),\n",
      " (98, 151),\n",
      " (-320, -303),\n",
      " (745, -894)]\n"
     ]
    }
   ],
   "source": [
    "rd.seed(123)\n",
    "liste_points=[(rd.randint(-1000,1000),rd.randint(-1000,1000)) for _ in range(9)]\n",
    "pprint(liste_points)"
   ]
  },
  {
   "cell_type": "code",
   "execution_count": 48,
   "metadata": {},
   "outputs": [
    {
     "name": "stdout",
     "output_type": "stream",
     "text": [
      "[[0, 5, 1, 3, 4, 6, 7, 2, 8], [5638.232938009765]]\n"
     ]
    }
   ],
   "source": [
    "arbre_chemins = créer_arbre(liste_points)\n",
    "creer_liste_chemins(arbre_chemins)\n",
    "\n",
    "liste_distance_et_chemin=[]\n",
    "for chemin in liste_chemins:\n",
    "    liste_distance_et_chemin.append([chemin , [calculer_distance_chemin(chemin,liste_points)]])\n",
    "liste_distance_et_chemin = sorted(liste_distance_et_chemin,key=lambda x:x[1])\n",
    "\n",
    "pprint(liste_distance_et_chemin[0])"
   ]
  }
 ],
 "metadata": {
  "kernelspec": {
   "display_name": "Python 3.10.4 64-bit",
   "language": "python",
   "name": "python3"
  },
  "language_info": {
   "codemirror_mode": {
    "name": "ipython",
    "version": 3
   },
   "file_extension": ".py",
   "mimetype": "text/x-python",
   "name": "python",
   "nbconvert_exporter": "python",
   "pygments_lexer": "ipython3",
   "version": "3.10.4"
  },
  "orig_nbformat": 4,
  "vscode": {
   "interpreter": {
    "hash": "916dbcbb3f70747c44a77c7bcd40155683ae19c65e1c03b4aa3499c5328201f1"
   }
  }
 },
 "nbformat": 4,
 "nbformat_minor": 2
}
