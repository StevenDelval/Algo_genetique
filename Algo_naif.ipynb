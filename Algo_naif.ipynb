{
 "cells": [
  {
   "cell_type": "code",
   "execution_count": 1,
   "metadata": {},
   "outputs": [],
   "source": [
    "from pprint import pprint\n",
    "from math import sqrt\n",
    "import random as rd"
   ]
  },
  {
   "cell_type": "code",
   "execution_count": 2,
   "metadata": {},
   "outputs": [],
   "source": [
    "class Arbre :\n",
    "    def __init__(self,valeur,parent):\n",
    "        self.valeur = valeur\n",
    "        self.parent = parent\n",
    "        self.enfants = []\n",
    "\n",
    "    def ajouter_enfant(self,enfant):\n",
    "        self.enfants.append(enfant)\n",
    "\n",
    "    def est_feuille(self):\n",
    "        if len(self.enfants) == 0:              \n",
    "            return True\n",
    "        return False"
   ]
  },
  {
   "cell_type": "code",
   "execution_count": null,
   "metadata": {},
   "outputs": [],
   "source": [
    "def distance_2_points(pointA,pointB):\n",
    "    return sqrt((pointA[0]-pointB[0])**2 +(pointA[1]-pointB[1])**2)\n",
    "\n",
    "def distance_chemin(chemin,liste_points):\n",
    "    pass"
   ]
  },
  {
   "cell_type": "code",
   "execution_count": 3,
   "metadata": {},
   "outputs": [
    {
     "name": "stdout",
     "output_type": "stream",
     "text": [
      "[(-893, -452), (-822, 574), (-166, -455), (-780, 717), (845, 791), (-922, -224)]\n"
     ]
    }
   ],
   "source": [
    "rd.seed(123)\n",
    "\n",
    "liste_points=[(rd.randint(-1000,1000),rd.randint(-1000,1000)) for _ in range(6)]\n",
    "pprint(liste_points)"
   ]
  }
 ],
 "metadata": {
  "kernelspec": {
   "display_name": "Python 3.10.4 64-bit",
   "language": "python",
   "name": "python3"
  },
  "language_info": {
   "codemirror_mode": {
    "name": "ipython",
    "version": 3
   },
   "file_extension": ".py",
   "mimetype": "text/x-python",
   "name": "python",
   "nbconvert_exporter": "python",
   "pygments_lexer": "ipython3",
   "version": "3.10.4"
  },
  "orig_nbformat": 4,
  "vscode": {
   "interpreter": {
    "hash": "916dbcbb3f70747c44a77c7bcd40155683ae19c65e1c03b4aa3499c5328201f1"
   }
  }
 },
 "nbformat": 4,
 "nbformat_minor": 2
}
